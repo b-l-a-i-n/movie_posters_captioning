{
 "cells": [
  {
   "cell_type": "code",
   "execution_count": null,
   "metadata": {
    "collapsed": true
   },
   "outputs": [],
   "source": [
    "import os\n",
    "\n",
    "import torch\n",
    "import pandas as pd\n",
    "from box import Box\n",
    "from PIL import Image\n",
    "from torch.utils.data import Dataset\n",
    "from transformers import (AutoTokenizer, Seq2SeqTrainer,\n",
    "                          Seq2SeqTrainingArguments, VisionEncoderDecoderModel,\n",
    "                          ViTFeatureExtractor, default_data_collator,\n",
    "                          get_linear_schedule_with_warmup)\n",
    "from transformers.optimization import AdamW"
   ]
  },
  {
   "cell_type": "code",
   "execution_count": null,
   "outputs": [],
   "source": [
    "class ImageCaptionDataset(Dataset):\n",
    "    def __init__(\n",
    "        self,\n",
    "        data,\n",
    "        image_dir,\n",
    "        feature_extractor,\n",
    "        tokenizer,\n",
    "        max_length,\n",
    "    ):\n",
    "        self.data = data\n",
    "        self.image_dir = image_dir\n",
    "        self.feature_extractor = feature_extractor\n",
    "        self.tokenizer = tokenizer\n",
    "        self.max_length = max_length\n",
    "\n",
    "    def __len__(self):\n",
    "        return len(self.data)\n",
    "\n",
    "    def __getitem__(self, idx):\n",
    "        return {\n",
    "            'pixel_values': self._get_pixel_values(idx),\n",
    "            'labels': self._get_labels(idx),\n",
    "        }\n",
    "\n",
    "    def _get_pixel_values(self, idx):\n",
    "        product_id = self.data['article_id'][idx]\n",
    "        image_filepath = os.path.join(\n",
    "            self.image_dir,\n",
    "            product_id[:3],\n",
    "            '{0}.jpg'.format(\n",
    "                product_id,\n",
    "            ),\n",
    "        )\n",
    "        image = Image.open(image_filepath).convert('RGB')\n",
    "        return self.feature_extractor(\n",
    "            image,\n",
    "            return_tensors='pt',\n",
    "        ).pixel_values.squeeze()\n",
    "\n",
    "    def _get_labels(self, idx):\n",
    "        caption = self.data['detail_desc'][idx]\n",
    "        labels = self.tokenizer(\n",
    "            caption,\n",
    "            padding='max_length',\n",
    "            truncation=True,\n",
    "            max_length=self.max_length,\n",
    "            return_tensors='pt',\n",
    "        ).input_ids\n",
    "        return self._labels_mask(labels)\n",
    "\n",
    "    def _labels_mask(self, labels):\n",
    "        return torch.where(\n",
    "            labels != self.tokenizer.pad_token_id,\n",
    "            labels,\n",
    "            -100,\n",
    "        )"
   ],
   "metadata": {
    "collapsed": false
   }
  },
  {
   "cell_type": "code",
   "execution_count": null,
   "outputs": [],
   "source": [
    "device = torch.device(\n",
    "    'cuda:0' if torch.cuda.is_available() else 'cpu'\n",
    ")\n",
    "\n",
    "data_training_args = Box(\n",
    "    {\n",
    "        'max_target_length': 64,\n",
    "        'num_beams': 4,\n",
    "        'images_dir': 'data/img',\n",
    "    },\n",
    ")\n",
    "\n",
    "model_args = Box(\n",
    "    {\n",
    "        'encoder_model_name_or_path': 'google/vit-base-patch16-224-in21k',\n",
    "        'decoder_model_name_or_path': 'sberbank-ai/rugpt3small_based_on_gpt2',\n",
    "        'no_repeat_ngram_size': 3,\n",
    "        'length_penalty': 2.0,\n",
    "    },\n",
    ")\n",
    "\n",
    "training_args = {\n",
    "    'num_train_epochs': 20,\n",
    "    'per_device_train_batch_size': 32,\n",
    "    'per_device_eval_batch_size': 1,\n",
    "    'output_dir': './output',\n",
    "    'do_train': True,\n",
    "    'do_eval': True,\n",
    "    'fp16': True,\n",
    "    'learning_rate': 1e-5,\n",
    "    'load_best_model_at_end': False,\n",
    "    'evaluation_strategy': 'epoch',\n",
    "    'save_strategy': 'epoch',\n",
    "    'save_total_limit': 2,\n",
    "    'report_to': 'none'\n",
    "}\n",
    "\n",
    "seq2seq_training_args = Seq2SeqTrainingArguments(**training_args)"
   ],
   "metadata": {
    "collapsed": false
   }
  },
  {
   "cell_type": "code",
   "execution_count": null,
   "outputs": [],
   "source": [
    "feature_extractor = ViTFeatureExtractor.from_pretrained(\n",
    "    model_args.encoder_model_name_or_path\n",
    ")\n",
    "tokenizer = AutoTokenizer.from_pretrained(\n",
    "    model_args.decoder_model_name_or_path, use_fast=True\n",
    ")\n",
    "tokenizer.pad_token = tokenizer.eos_token\n",
    "model = VisionEncoderDecoderModel.from_encoder_decoder_pretrained(\n",
    "    model_args.encoder_model_name_or_path, model_args.decoder_model_name_or_path\n",
    ")\n",
    "\n",
    "model.config.decoder_start_token_id = tokenizer.bos_token_id\n",
    "model.config.pad_token_id = tokenizer.pad_token_id\n",
    "model.config.vocab_size = model.config.decoder.vocab_size\n",
    "model.config.eos_token_id = tokenizer.sep_token_id\n",
    "model.config.max_length = data_training_args.max_target_length\n",
    "model.config.no_repeat_ngram_size = model_args.no_repeat_ngram_size\n",
    "model.config.length_penalty = model_args.length_penalty\n",
    "model.config.num_beams = data_training_args.num_beams\n",
    "model.decoder.resize_token_embeddings(len(tokenizer))"
   ],
   "metadata": {
    "collapsed": false
   }
  },
  {
   "cell_type": "code",
   "execution_count": null,
   "outputs": [],
   "source": [
    "train_df = pd.read_csv('../input/poster-images/train.csv')\n",
    "eval_df = pd.read_csv('../input/poster-images/val.csv')\n",
    "\n",
    "train_dataset = ImageCaptionDataset(\n",
    "    data=train_df,\n",
    "    feature_extractor=feature_extractor,\n",
    "    tokenizer=tokenizer,\n",
    "    image_dir=data_training_args.images_dir,\n",
    "    max_length=data_training_args.max_target_length,\n",
    ")\n",
    "eval_dataset = ImageCaptionDataset(\n",
    "    data=eval_df,\n",
    "    feature_extractor=feature_extractor,\n",
    "    tokenizer=tokenizer,\n",
    "    image_dir=data_training_args.images_dir,\n",
    "    max_length=data_training_args.max_target_length,\n",
    ")"
   ],
   "metadata": {
    "collapsed": false
   }
  },
  {
   "cell_type": "code",
   "execution_count": null,
   "outputs": [],
   "source": [
    "optimizer = AdamW(\n",
    "    model.parameters(),\n",
    "    lr=seq2seq_training_args.learning_rate,\n",
    ")\n",
    "\n",
    "steps_per_epoch = len(train_dataset) // seq2seq_training_args.per_device_train_batch_size\n",
    "num_training_steps = steps_per_epoch * seq2seq_training_args.num_train_epochs\n",
    "\n",
    "lr_scheduler = get_linear_schedule_with_warmup(\n",
    "    optimizer,\n",
    "    num_warmup_steps=seq2seq_training_args.warmup_steps,\n",
    "    num_training_steps=num_training_steps,\n",
    ")\n",
    "\n",
    "optimizers = (optimizer, lr_scheduler)"
   ],
   "metadata": {
    "collapsed": false
   }
  },
  {
   "cell_type": "code",
   "execution_count": null,
   "outputs": [],
   "source": [
    "trainer = Seq2SeqTrainer(\n",
    "    model=model,\n",
    "    optimizers=optimizers,\n",
    "    tokenizer=feature_extractor,\n",
    "    args=seq2seq_training_args,\n",
    "    train_dataset=train_dataset,\n",
    "    eval_dataset=eval_dataset,\n",
    "    data_collator=default_data_collator,\n",
    ")\n",
    "\n",
    "trainer.train()"
   ],
   "metadata": {
    "collapsed": false
   }
  }
 ],
 "metadata": {
  "kernelspec": {
   "display_name": "Python 3",
   "language": "python",
   "name": "python3"
  },
  "language_info": {
   "codemirror_mode": {
    "name": "ipython",
    "version": 2
   },
   "file_extension": ".py",
   "mimetype": "text/x-python",
   "name": "python",
   "nbconvert_exporter": "python",
   "pygments_lexer": "ipython2",
   "version": "2.7.6"
  }
 },
 "nbformat": 4,
 "nbformat_minor": 0
}
