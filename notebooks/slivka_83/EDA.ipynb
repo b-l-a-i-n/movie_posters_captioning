{
 "cells": [
  {
   "cell_type": "markdown",
   "metadata": {},
   "source": [
    "# Импорт библиотек"
   ]
  },
  {
   "cell_type": "code",
   "execution_count": 1,
   "metadata": {
    "ExecuteTime": {
     "end_time": "2022-12-07T19:02:48.065164Z",
     "start_time": "2022-12-07T19:02:47.269390Z"
    }
   },
   "outputs": [],
   "source": [
    "import pandas as pd\n",
    "import matplotlib.pyplot as plt"
   ]
  },
  {
   "cell_type": "markdown",
   "metadata": {},
   "source": [
    "# Загрузка данных"
   ]
  },
  {
   "cell_type": "code",
   "execution_count": 2,
   "metadata": {
    "ExecuteTime": {
     "end_time": "2022-12-07T19:02:48.431125Z",
     "start_time": "2022-12-07T19:02:48.066158Z"
    },
    "id": "OiZgmCbmdRwB",
    "scrolled": true
   },
   "outputs": [],
   "source": [
    "train_df = pd.read_csv('train.csv').reset_index(drop=True)\n",
    "val_df = pd.read_csv('val.csv').reset_index(drop=True)\n",
    "test_df = pd.read_csv('test.csv').reset_index(drop=True)"
   ]
  },
  {
   "cell_type": "code",
   "execution_count": 3,
   "metadata": {
    "ExecuteTime": {
     "end_time": "2022-12-07T19:02:48.819915Z",
     "start_time": "2022-12-07T19:02:48.653326Z"
    },
    "id": "C5djkvXxMKom"
   },
   "outputs": [
    {
     "data": {
      "image/png": "[encoded data removed]",
      "text/plain": [
       "<Figure size 1224x432 with 1 Axes>"
      ]
     },
     "metadata": {
      "needs_background": "light"
     },
     "output_type": "display_data"
    }
   ],
   "source": [
    "plt.figure(figsize=(17,6))\n",
    "train_df['description'].str.len().plot.hist(bins=20);"
   ]
  },
  {
   "cell_type": "code",
   "execution_count": 4,
   "metadata": {
    "ExecuteTime": {
     "end_time": "2022-12-07T19:02:59.586260Z",
     "start_time": "2022-12-07T19:02:59.462591Z"
    }
   },
   "outputs": [
    {
     "data": {
      "image/png": "[encoded data removed]",
      "text/plain": [
       "<Figure size 1224x432 with 1 Axes>"
      ]
     },
     "metadata": {
      "needs_background": "light"
     },
     "output_type": "display_data"
    }
   ],
   "source": [
    "plt.figure(figsize=(17,6))\n",
    "train_df['nameRu'].str.len().plot.hist(bins=20);"
   ]
  },
  {
   "cell_type": "code",
   "execution_count": 4,
   "metadata": {
    "ExecuteTime": {
     "end_time": "2022-11-19T20:58:17.457478Z",
     "start_time": "2022-11-19T20:58:17.432957Z"
    },
    "id": "fNUrsbg1bRmi"
   },
   "outputs": [
    {
     "data": {
      "text/plain": [
       "(413.3124469349635, 371.0)"
      ]
     },
     "execution_count": 4,
     "metadata": {},
     "output_type": "execute_result"
    }
   ],
   "source": [
    "train_df['description'].str.len().mean(), train_df['description'].str.len().median()"
   ]
  },
  {
   "cell_type": "code",
   "execution_count": 5,
   "metadata": {
    "ExecuteTime": {
     "end_time": "2022-11-19T20:58:18.340864Z",
     "start_time": "2022-11-19T20:58:17.887744Z"
    }
   },
   "outputs": [
    {
     "data": {
      "text/plain": [
       "(59.586432331465446, 53.0)"
      ]
     },
     "execution_count": 5,
     "metadata": {},
     "output_type": "execute_result"
    }
   ],
   "source": [
    "train_df['description'].str.split().map(len).mean(), train_df['description'].str.split().map(len).median()"
   ]
  },
  {
   "cell_type": "code",
   "execution_count": 6,
   "metadata": {
    "ExecuteTime": {
     "end_time": "2022-11-19T20:58:46.220819Z",
     "start_time": "2022-11-19T20:58:46.001510Z"
    }
   },
   "outputs": [
    {
     "data": {
      "text/plain": [
       "103.0"
      ]
     },
     "execution_count": 6,
     "metadata": {},
     "output_type": "execute_result"
    }
   ],
   "source": [
    "train_df['description'].str.split().map(len).quantile(0.9)"
   ]
  },
  {
   "cell_type": "code",
   "execution_count": 13,
   "metadata": {
    "ExecuteTime": {
     "end_time": "2022-12-07T19:06:02.283588Z",
     "start_time": "2022-12-07T19:06:02.228739Z"
    },
    "scrolled": true
   },
   "outputs": [
    {
     "data": {
      "text/plain": [
       "(2.4136315228966985, 2.0)"
      ]
     },
     "execution_count": 13,
     "metadata": {},
     "output_type": "execute_result"
    }
   ],
   "source": [
    "train_df['nameRu'].dropna().str.split().map(len).mean(), train_df['nameRu'].dropna().str.split().map(len).median()"
   ]
  },
  {
   "cell_type": "code",
   "execution_count": 12,
   "metadata": {
    "ExecuteTime": {
     "end_time": "2022-12-07T19:05:51.134670Z",
     "start_time": "2022-12-07T19:05:51.017578Z"
    }
   },
   "outputs": [
    {
     "data": {
      "text/plain": [
       "17615                 [#Sтуденты]\n",
       "589             [#Зановородиться]\n",
       "4287                  [#СеняФедя]\n",
       "20501                   [#Хоррор]\n",
       "1075     [(НЕ)идеальный, мужчина]\n",
       "                   ...           \n",
       "17058                      [Ящик]\n",
       "22382             [Ящик, Пандоры]\n",
       "8124                      [мама!]\n",
       "22106          [сНежное, шоу, 3D]\n",
       "951      […А, в, душе, я, танцую]\n",
       "Name: nameRu, Length: 23475, dtype: object"
      ]
     },
     "execution_count": 12,
     "metadata": {},
     "output_type": "execute_result"
    }
   ],
   "source": [
    "train_df['nameRu'].dropna().str.split().sort_values()"
   ]
  },
  {
   "cell_type": "code",
   "execution_count": 11,
   "metadata": {
    "ExecuteTime": {
     "end_time": "2022-12-07T19:05:23.899327Z",
     "start_time": "2022-12-07T19:05:23.893279Z"
    }
   },
   "outputs": [
    {
     "data": {
      "text/plain": [
       "filmId                                                      1007051\n",
       "nameRu                                                          NaN\n",
       "nameEn                                                     Aestetik\n",
       "type                                                           FILM\n",
       "year                                                         2015.0\n",
       "description       Документальное повествование о красоте, скрыто...\n",
       "countries                              Дания,Исландия,Россия,Швеция\n",
       "genres                                               документальный\n",
       "rating                                                          NaN\n",
       "posterUrl         https://kinopoiskapiunofficial.tech/images/pos...\n",
       "keyword                                          скрытый цвет вещей\n",
       "file_size                                                    154764\n",
       "imageSize                                                    707000\n",
       "imageSizeLabel                                                   17\n",
       "Name: 22686, dtype: object"
      ]
     },
     "execution_count": 11,
     "metadata": {},
     "output_type": "execute_result"
    }
   ],
   "source": [
    "train_df.loc[22686]"
   ]
  }
 ],
 "metadata": {
  "accelerator": "GPU",
  "colab": {
   "collapsed_sections": [],
   "provenance": []
  },
  "gpuClass": "standard",
  "kernelspec": {
   "display_name": "Python 3 (ipykernel)",
   "language": "python",
   "name": "python3"
  },
  "language_info": {
   "codemirror_mode": {
    "name": "ipython",
    "version": 3
   },
   "file_extension": ".py",
   "mimetype": "text/x-python",
   "name": "python",
   "nbconvert_exporter": "python",
   "pygments_lexer": "ipython3",
   "version": "3.8.10"
  },
  "toc": {
   "base_numbering": 1,
   "nav_menu": {},
   "number_sections": true,
   "sideBar": true,
   "skip_h1_title": false,
   "title_cell": "Table of Contents",
   "title_sidebar": "Contents",
   "toc_cell": false,
   "toc_position": {},
   "toc_section_display": true,
   "toc_window_display": true
  }
 },
 "nbformat": 4,
 "nbformat_minor": 1
}
